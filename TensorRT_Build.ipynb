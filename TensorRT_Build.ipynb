{
  "nbformat": 4,
  "nbformat_minor": 0,
  "metadata": {
    "colab": {
      "name": "TensorRT_Build.ipynb",
      "provenance": [],
      "collapsed_sections": [],
      "machine_shape": "hm",
      "authorship_tag": "ABX9TyOggr9IsH/sn3+kxJl2vy5v",
      "include_colab_link": true
    },
    "kernelspec": {
      "name": "python3",
      "display_name": "Python 3"
    },
    "language_info": {
      "name": "python"
    },
    "accelerator": "GPU"
  },
  "cells": [
    {
      "cell_type": "markdown",
      "metadata": {
        "id": "view-in-github",
        "colab_type": "text"
      },
      "source": [
        "<a href=\"https://colab.research.google.com/github/harry-stark/TensorRT-BUILD-Templates/blob/main/TensorRT_Build.ipynb\" target=\"_parent\"><img src=\"https://colab.research.google.com/assets/colab-badge.svg\" alt=\"Open In Colab\"/></a>"
      ]
    },
    {
      "cell_type": "markdown",
      "metadata": {
        "id": "wLRgViD5rMEk"
      },
      "source": [
        "#This notebook is a template for building TensorRT OSS components, in a Jupyter environment."
      ]
    },
    {
      "cell_type": "markdown",
      "metadata": {
        "id": "YeCzStcttwEM"
      },
      "source": [
        "Check for GPU and CUDA toolkit."
      ]
    },
    {
      "cell_type": "code",
      "metadata": {
        "id": "dUc17--Stlb5"
      },
      "source": [
        "%%shell\n",
        "nvidia-smi\n",
        "nvcc --version"
      ],
      "execution_count": null,
      "outputs": []
    },
    {
      "cell_type": "markdown",
      "metadata": {
        "id": "A6j_DSM9rMv9"
      },
      "source": [
        "###Build or Install CMake>3.12"
      ]
    },
    {
      "cell_type": "code",
      "metadata": {
        "id": "ZkH-TuvepQ88"
      },
      "source": [
        "%%shell\n",
        "sudo apt install build-essential git\n",
        "git clone https://github.com/Kitware/CMake/; cd CMake\n",
        "./bootstrap && make && sudo make install"
      ],
      "execution_count": null,
      "outputs": []
    },
    {
      "cell_type": "markdown",
      "metadata": {
        "id": "C-TW_lHHrXDT"
      },
      "source": [
        "###Install TensorRT from nvidia(https://developer.nvidia.com/tensorrt). Nvidia doesn't provide direct download access to Tensorrt . So download it to your drive."
      ]
    },
    {
      "cell_type": "markdown",
      "metadata": {
        "id": "ChB5AkHXrmg7"
      },
      "source": [
        "###Mount Drive and Install TensorRT"
      ]
    },
    {
      "cell_type": "code",
      "metadata": {
        "id": "h3lkRhe27gkE"
      },
      "source": [
        "from google.colab import drive\n",
        "drive.mount('/content/drive')"
      ],
      "execution_count": null,
      "outputs": []
    },
    {
      "cell_type": "code",
      "metadata": {
        "id": "iy6hx5DI06GU"
      },
      "source": [
        "%%shell\n",
        "sudo dpkg -i \"/content/drive/MyDrive/nv-tensorrt-repo-ubuntu2004-cuda11.4-trt8.2.0.6-ea-20210922_1-1_amd64.deb\"\n",
        "sudo apt-get update\n",
        "sudo apt-get install tensorrt"
      ],
      "execution_count": null,
      "outputs": []
    },
    {
      "cell_type": "markdown",
      "metadata": {
        "id": "plet0nIHsGL-"
      },
      "source": [
        "###Clone the TensorRT OSS directory. "
      ]
    },
    {
      "cell_type": "code",
      "metadata": {
        "id": "iiUMO3FSsQ3o"
      },
      "source": [
        "%%shell\n",
        "git clone -b master https://github.com/nvidia/TensorRT TensorRT"
      ],
      "execution_count": null,
      "outputs": []
    },
    {
      "cell_type": "markdown",
      "metadata": {
        "id": "UYyb1KszsWeU"
      },
      "source": [
        "###Build TensorRT OSS components. Take extra care of Path variables like TRT_LIBPATH"
      ]
    },
    {
      "cell_type": "code",
      "metadata": {
        "id": "ZMO7Qw971z6X"
      },
      "source": [
        "%%shell\n",
        "cd TensorRT\n",
        "git submodule update --init --recursive\n",
        "export TRT_LIBPATH=`pwd`/TensorRT-8.2.0.6\n",
        "mkdir -p build && cd build\n",
        "cmake .. -DTRT_LIB_DIR=$TRT_LIBPATH -DTRT_OUT_DIR=`pwd`/out\n",
        "make -j$(nproc)"
      ],
      "execution_count": null,
      "outputs": []
    },
    {
      "cell_type": "markdown",
      "metadata": {
        "id": "-nXI6KO0suyh"
      },
      "source": [
        "##Voila..TensorRT components will be inside TensorRT/build. I for one wanted onnx2trt executable. GG!"
      ]
    }
  ]
}